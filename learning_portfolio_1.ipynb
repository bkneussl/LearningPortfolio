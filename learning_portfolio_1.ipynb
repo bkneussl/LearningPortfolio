{
  "nbformat": 4,
  "nbformat_minor": 0,
  "metadata": {
    "colab": {
      "provenance": [],
      "toc_visible": true,
      "authorship_tag": "ABX9TyPX2gXpSiMutWlnbG+AO9O0",
      "include_colab_link": true
    },
    "kernelspec": {
      "name": "python3",
      "display_name": "Python 3"
    },
    "language_info": {
      "name": "python"
    }
  },
  "cells": [
    {
      "cell_type": "markdown",
      "metadata": {
        "id": "view-in-github",
        "colab_type": "text"
      },
      "source": [
        "<a href=\"https://colab.research.google.com/github/bkneussl/LearningPortfolio/blob/main/learning_portfolio_1.ipynb\" target=\"_parent\"><img src=\"https://colab.research.google.com/assets/colab-badge.svg\" alt=\"Open In Colab\"/></a>"
      ]
    },
    {
      "cell_type": "markdown",
      "source": [
        "# **Learning Portfolio**"
      ],
      "metadata": {
        "id": "2PlkmvxWxS6z"
      }
    },
    {
      "cell_type": "markdown",
      "source": [
        "# Session 1 | The Machine Learning Landscape\n",
        "\n",
        "Use OpenAi's GPT-3 API and try to systematically analyze a dataset using an NLP task of your choice. Possible NLP tasks:\n",
        "\n",
        "1) Information search - try to find the right information by using several information texts and corresponding questions.\n",
        "\n",
        "2) Named entity recognition\n",
        "\n",
        "3) Text classification/Document Classification\n",
        "\n",
        "4) Keyword Extraction\n",
        "\n",
        "5) Grammatical Error Correction\n",
        "\n",
        "6) Text summarization\n",
        "\n",
        "7) Question Generation\n",
        "\n",
        "8) Headline Generation"
      ],
      "metadata": {
        "id": "4CracXdfx8Cb"
      }
    },
    {
      "cell_type": "markdown",
      "source": [
        "# Session 2 | End-to-End Machine Learning Project\n",
        "\n",
        "1) Adding a further model: In a few weeks we will learn neural networks, try to add this model!\n",
        "\n",
        "2) Find a challenge on Kaggle for a regression dataset and use Chapter 2 and this colab to try to solve it."
      ],
      "metadata": {
        "id": "5O8Wd-YDyT2k"
      }
    }
  ]
}