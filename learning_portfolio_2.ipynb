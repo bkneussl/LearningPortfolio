{
  "nbformat": 4,
  "nbformat_minor": 0,
  "metadata": {
    "colab": {
      "provenance": [],
      "toc_visible": true,
      "authorship_tag": "ABX9TyOeJ/ZAWCOn4clFimbO/xYO",
      "include_colab_link": true
    },
    "kernelspec": {
      "name": "python3",
      "display_name": "Python 3"
    },
    "language_info": {
      "name": "python"
    }
  },
  "cells": [
    {
      "cell_type": "markdown",
      "metadata": {
        "id": "view-in-github",
        "colab_type": "text"
      },
      "source": [
        "<a href=\"https://colab.research.google.com/github/bkneussl/LearningPortfolio/blob/main/learning_portfolio_2.ipynb\" target=\"_parent\"><img src=\"https://colab.research.google.com/assets/colab-badge.svg\" alt=\"Open In Colab\"/></a>"
      ]
    },
    {
      "cell_type": "markdown",
      "source": [
        "# **Learning Portfolio**"
      ],
      "metadata": {
        "id": "2PlkmvxWxS6z"
      }
    },
    {
      "cell_type": "markdown",
      "source": [
        "# Session 2 | End-to-End Machine Learning Project\n",
        "\n",
        "1) Adding a further model: In a few weeks we will learn neural networks, try to add this model!\n",
        "\n",
        "2) Find a challenge on Kaggle for a regression dataset and use Chapter 2 and this colab to try to solve it."
      ],
      "metadata": {
        "id": "5O8Wd-YDyT2k"
      }
    }
  ]
}